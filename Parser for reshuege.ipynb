{
 "cells": [
  {
   "cell_type": "markdown",
   "metadata": {},
   "source": [
    "# <center> Парсер для сайта reshuege"
   ]
  },
  {
   "cell_type": "markdown",
   "metadata": {},
   "source": [
    "## Описание:\n",
    "\n",
    "Многие учителя и репетиторы дают задания ученикам, используя сайт reshuege. Можно отправить ссылку на составленый вариант, но есть существенный минус - там есть ссылки на ответы и решения. \n",
    "\n",
    "Данный код убирает эти ссылки и сохраняет html файл с задачами."
   ]
  },
  {
   "cell_type": "code",
   "execution_count": 1,
   "metadata": {},
   "outputs": [],
   "source": [
    "import requests\n",
    "\n",
    "from bs4 import BeautifulSoup"
   ]
  },
  {
   "cell_type": "markdown",
   "metadata": {},
   "source": [
    "Получаем код страницы и парсим с помощью бибилиотеки BeautifulSoup."
   ]
  },
  {
   "cell_type": "code",
   "execution_count": 22,
   "metadata": {},
   "outputs": [],
   "source": [
    "page = requests.get('https://inf-ege.sdamgia.ru/test?id=6318837&nt=True&pub=False').text"
   ]
  },
  {
   "cell_type": "code",
   "execution_count": 23,
   "metadata": {},
   "outputs": [],
   "source": [
    "soup = BeautifulSoup(page, 'html.parser')"
   ]
  },
  {
   "cell_type": "markdown",
   "metadata": {},
   "source": [
    "Получаем все ссылки на задания."
   ]
  },
  {
   "cell_type": "code",
   "execution_count": 24,
   "metadata": {},
   "outputs": [
    {
     "data": {
      "text/plain": [
       "[<span class=\"prob_nums\" style=\"\">Задание 1 № <a href=\"/problem?id=18549\">18549</a></span>,\n",
       " <span class=\"prob_nums\" style=\"\">Задание 2 № <a href=\"/problem?id=13613\">13613</a></span>,\n",
       " <span class=\"prob_nums\" style=\"\">Задание 3 № <a href=\"/problem?id=5345\">5345</a></span>,\n",
       " <span class=\"prob_nums\" style=\"\">Задание 4 № <a href=\"/problem?id=8091\">8091</a></span>,\n",
       " <span class=\"prob_nums\" style=\"\">Задание 5 № <a href=\"/problem?id=15942\">15942</a></span>,\n",
       " <span class=\"prob_nums\" style=\"\">Задание 6 № <a href=\"/problem?id=13536\">13536</a></span>,\n",
       " <span class=\"prob_nums\" style=\"\">Задание 7 № <a href=\"/problem?id=18076\">18076</a></span>,\n",
       " <span class=\"prob_nums\" style=\"\">Задание 8 № <a href=\"/problem?id=17326\">17326</a></span>,\n",
       " <span class=\"prob_nums\" style=\"\">Задание 9 № <a href=\"/problem?id=8097\">8097</a></span>,\n",
       " <span class=\"prob_nums\" style=\"\">Задание 10 № <a href=\"/problem?id=16037\">16037</a></span>,\n",
       " <span class=\"prob_nums\" style=\"\">Задание 11 № <a href=\"/problem?id=5458\">5458</a></span>,\n",
       " <span class=\"prob_nums\" style=\"\">Задание 12 № <a href=\"/problem?id=18624\">18624</a></span>,\n",
       " <span class=\"prob_nums\" style=\"\">Задание 13 № <a href=\"/problem?id=15950\">15950</a></span>,\n",
       " <span class=\"prob_nums\" style=\"\">Задание 14 № <a href=\"/problem?id=1813\">1813</a></span>,\n",
       " <span class=\"prob_nums\" style=\"\">Задание 15 № <a href=\"/problem?id=13599\">13599</a></span>,\n",
       " <span class=\"prob_nums\" style=\"\">Задание 16 № <a href=\"/problem?id=9367\">9367</a></span>,\n",
       " <span class=\"prob_nums\" style=\"\">Задание 17 № <a href=\"/problem?id=5251\">5251</a></span>,\n",
       " <span class=\"prob_nums\" style=\"\">Задание 18 № <a href=\"/problem?id=7929\">7929</a></span>,\n",
       " <span class=\"prob_nums\" style=\"\">Задание 19 № <a href=\"/problem?id=18595\">18595</a></span>,\n",
       " <span class=\"prob_nums\" style=\"\">Задание 20 № <a href=\"/problem?id=15636\">15636</a></span>,\n",
       " <span class=\"prob_nums\" style=\"\">Задание 21 № <a href=\"/problem?id=23919\">23919</a></span>,\n",
       " <span class=\"prob_nums\" style=\"\">Задание 22 № <a href=\"/problem?id=10298\">10298</a></span>,\n",
       " <span class=\"prob_nums\" style=\"\">Задание 23 № <a href=\"/problem?id=4599\">4599</a></span>,\n",
       " <span class=\"prob_nums\" style=\"\">Задание 24 № <a href=\"/problem?id=3634\">3634</a></span>,\n",
       " <span class=\"prob_nums\" style=\"\">Задание 25 № <a href=\"/problem?id=2902\">2902</a></span>,\n",
       " <span class=\"prob_nums\" style=\"\">Задание 26 № <a href=\"/problem?id=7683\">7683</a></span>,\n",
       " <span class=\"prob_nums\" style=\"\">Задание 27 № <a href=\"/problem?id=13503\">13503</a></span>]"
      ]
     },
     "execution_count": 24,
     "metadata": {},
     "output_type": "execute_result"
    }
   ],
   "source": [
    "soup.find_all('span', {'class': 'prob_nums'})"
   ]
  },
  {
   "cell_type": "code",
   "execution_count": 8,
   "metadata": {},
   "outputs": [],
   "source": [
    "for num in soup.find_all('span', {'class': 'prob_nums'}):\n",
    "    num.find('a').decompose()"
   ]
  },
  {
   "cell_type": "markdown",
   "metadata": {},
   "source": [
    "Удаляем все ссылки на задания."
   ]
  },
  {
   "cell_type": "code",
   "execution_count": 11,
   "metadata": {},
   "outputs": [
    {
     "data": {
      "text/plain": [
       "[<span class=\"prob_nums\" style=\"\">Задание 1 № </span>,\n",
       " <span class=\"prob_nums\" style=\"\">Задание 2 № </span>,\n",
       " <span class=\"prob_nums\" style=\"\">Задание 3 № </span>,\n",
       " <span class=\"prob_nums\" style=\"\">Задание 4 № </span>,\n",
       " <span class=\"prob_nums\" style=\"\">Задание 5 № </span>,\n",
       " <span class=\"prob_nums\" style=\"\">Задание 6 № </span>,\n",
       " <span class=\"prob_nums\" style=\"\">Задание 7 № </span>,\n",
       " <span class=\"prob_nums\" style=\"\">Задание 8 № </span>,\n",
       " <span class=\"prob_nums\" style=\"\">Задание 9 № </span>,\n",
       " <span class=\"prob_nums\" style=\"\">Задание 10 № </span>,\n",
       " <span class=\"prob_nums\" style=\"\">Задание 11 № </span>,\n",
       " <span class=\"prob_nums\" style=\"\">Задание 12 № </span>,\n",
       " <span class=\"prob_nums\" style=\"\">Задание 13 № </span>,\n",
       " <span class=\"prob_nums\" style=\"\">Задание 14 № </span>,\n",
       " <span class=\"prob_nums\" style=\"\">Задание 15 № </span>,\n",
       " <span class=\"prob_nums\" style=\"\">Задание 16 № </span>,\n",
       " <span class=\"prob_nums\" style=\"\">Задание 17 № </span>,\n",
       " <span class=\"prob_nums\" style=\"\">Задание 18 № </span>,\n",
       " <span class=\"prob_nums\" style=\"\">Задание 19 № </span>,\n",
       " <span class=\"prob_nums\" style=\"\">Задание 20 № </span>,\n",
       " <span class=\"prob_nums\" style=\"\">Задание 21 № </span>,\n",
       " <span class=\"prob_nums\" style=\"\">Задание 22 № </span>,\n",
       " <span class=\"prob_nums\" style=\"\">Задание 23 № </span>,\n",
       " <span class=\"prob_nums\" style=\"\">Задание 24 № </span>,\n",
       " <span class=\"prob_nums\" style=\"\">Задание 25 № </span>,\n",
       " <span class=\"prob_nums\" style=\"\">Задание 26 № </span>,\n",
       " <span class=\"prob_nums\" style=\"\">Задание 27 № </span>]"
      ]
     },
     "execution_count": 11,
     "metadata": {},
     "output_type": "execute_result"
    }
   ],
   "source": [
    "soup.find_all('span', {'class': 'prob_nums'})"
   ]
  },
  {
   "cell_type": "markdown",
   "metadata": {},
   "source": [
    "Удаляем ссылку на номер варианта."
   ]
  },
  {
   "cell_type": "code",
   "execution_count": 26,
   "metadata": {},
   "outputs": [
    {
     "data": {
      "text/plain": [
       "<div align=\"center\" class=\"new_header\" style=\"padding-top:3px;vertical-align:middle;width:100%;line-height:25px;text-align:left; margin-bottom:2px;font-size:18px; color:#006\"><b>Вариант № 6318837</b></div>"
      ]
     },
     "execution_count": 26,
     "metadata": {},
     "output_type": "execute_result"
    }
   ],
   "source": [
    "soup.find('div', {'class': 'new_header'})"
   ]
  },
  {
   "cell_type": "code",
   "execution_count": 14,
   "metadata": {},
   "outputs": [],
   "source": [
    "soup.find('div', {'class': 'new_header'}).decompose()"
   ]
  },
  {
   "cell_type": "markdown",
   "metadata": {},
   "source": [
    "Сохраняем файл."
   ]
  },
  {
   "cell_type": "code",
   "execution_count": 19,
   "metadata": {},
   "outputs": [],
   "source": [
    "html_content = soup.prettify()"
   ]
  },
  {
   "cell_type": "code",
   "execution_count": 21,
   "metadata": {},
   "outputs": [],
   "source": [
    "with open('1.html', 'w') as f:\n",
    "    f.write(html_content)"
   ]
  }
 ],
 "metadata": {
  "kernelspec": {
   "display_name": "Python 3",
   "language": "python",
   "name": "python3"
  },
  "language_info": {
   "codemirror_mode": {
    "name": "ipython",
    "version": 3
   },
   "file_extension": ".py",
   "mimetype": "text/x-python",
   "name": "python",
   "nbconvert_exporter": "python",
   "pygments_lexer": "ipython3",
   "version": "3.7.5"
  }
 },
 "nbformat": 4,
 "nbformat_minor": 2
}
